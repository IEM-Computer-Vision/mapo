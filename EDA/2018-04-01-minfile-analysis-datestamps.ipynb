{
 "cells": [
  {
   "cell_type": "markdown",
   "metadata": {},
   "source": [
    "# 2018-04-01-minfile-analysis-datestamps"
   ]
  },
  {
   "cell_type": "markdown",
   "metadata": {},
   "source": [
    "## April 1, 2018"
   ]
  },
  {
   "cell_type": "code",
   "execution_count": 1,
   "metadata": {},
   "outputs": [],
   "source": [
    "import numpy as np\n",
    "import pandas as pd\n",
    "pd.options.display.max_columns = 1000\n",
    "pd.options.display.max_rows = 1000\n",
    "pd.options.display.max_colwidth = 1000"
   ]
  },
  {
   "cell_type": "code",
   "execution_count": 2,
   "metadata": {},
   "outputs": [],
   "source": [
    "%matplotlib inline\n",
    "import mpl_toolkits.basemap\n",
    "from mpl_toolkits.basemap import Basemap\n",
    "import matplotlib.pyplot as plt"
   ]
  },
  {
   "cell_type": "code",
   "execution_count": 3,
   "metadata": {},
   "outputs": [],
   "source": [
    "import warnings\n",
    "warnings.filterwarnings(\"ignore\")"
   ]
  },
  {
   "cell_type": "markdown",
   "metadata": {},
   "source": [
    "# 1 BC Minfile Analysis"
   ]
  },
  {
   "cell_type": "markdown",
   "metadata": {},
   "source": [
    "## 1.0.1 Load and clean the data"
   ]
  },
  {
   "cell_type": "markdown",
   "metadata": {},
   "source": [
    "<https://catalogue.data.gov.bc.ca/dataset/assessment-report-index-system-aris-database/resource/3f46ab30-77e3-4a92-a010-f73bf4f913a3>"
   ]
  },
  {
   "cell_type": "code",
   "execution_count": 4,
   "metadata": {},
   "outputs": [],
   "source": [
    "df = pd.read_csv('../data/canada/british-columbia/ariasdata.csv', encoding='latin')"
   ]
  },
  {
   "cell_type": "code",
   "execution_count": 5,
   "metadata": {},
   "outputs": [
    {
     "data": {
      "text/html": [
       "<div>\n",
       "<style scoped>\n",
       "    .dataframe tbody tr th:only-of-type {\n",
       "        vertical-align: middle;\n",
       "    }\n",
       "\n",
       "    .dataframe tbody tr th {\n",
       "        vertical-align: top;\n",
       "    }\n",
       "\n",
       "    .dataframe thead th {\n",
       "        text-align: right;\n",
       "    }\n",
       "</style>\n",
       "<table border=\"1\" class=\"dataframe\">\n",
       "  <thead>\n",
       "    <tr style=\"text-align: right;\">\n",
       "      <th></th>\n",
       "      <th>Name</th>\n",
       "      <th>Description</th>\n",
       "    </tr>\n",
       "  </thead>\n",
       "  <tbody>\n",
       "    <tr>\n",
       "      <th>0</th>\n",
       "      <td>rep_no</td>\n",
       "      <td>Assessment Report Number</td>\n",
       "    </tr>\n",
       "    <tr>\n",
       "      <th>1</th>\n",
       "      <td>cnf_prd</td>\n",
       "      <td>Confidential Period</td>\n",
       "    </tr>\n",
       "    <tr>\n",
       "      <th>2</th>\n",
       "      <td>aff_dt</td>\n",
       "      <td>Affidavit Date</td>\n",
       "    </tr>\n",
       "    <tr>\n",
       "      <th>3</th>\n",
       "      <td>gwrk_typs</td>\n",
       "      <td>General Work Codes</td>\n",
       "    </tr>\n",
       "    <tr>\n",
       "      <th>4</th>\n",
       "      <td>claim_val</td>\n",
       "      <td>Claim Value</td>\n",
       "    </tr>\n",
       "    <tr>\n",
       "      <th>5</th>\n",
       "      <td>title</td>\n",
       "      <td>Title of Report</td>\n",
       "    </tr>\n",
       "    <tr>\n",
       "      <th>6</th>\n",
       "      <td>rep_yr</td>\n",
       "      <td>Report Year</td>\n",
       "    </tr>\n",
       "    <tr>\n",
       "      <th>7</th>\n",
       "      <td>wrk_yr</td>\n",
       "      <td>Work Year</td>\n",
       "    </tr>\n",
       "    <tr>\n",
       "      <th>8</th>\n",
       "      <td>conf_ldate</td>\n",
       "      <td>no data</td>\n",
       "    </tr>\n",
       "    <tr>\n",
       "      <th>9</th>\n",
       "      <td>conf_adate</td>\n",
       "      <td>Date Off Confidental</td>\n",
       "    </tr>\n",
       "    <tr>\n",
       "      <th>10</th>\n",
       "      <td>aff_ndate</td>\n",
       "      <td>no data</td>\n",
       "    </tr>\n",
       "    <tr>\n",
       "      <th>11</th>\n",
       "      <td>aff_adate</td>\n",
       "      <td>NaN</td>\n",
       "    </tr>\n",
       "    <tr>\n",
       "      <th>12</th>\n",
       "      <td>page_ct</td>\n",
       "      <td>Page Count</td>\n",
       "    </tr>\n",
       "    <tr>\n",
       "      <th>13</th>\n",
       "      <td>prpty_nm</td>\n",
       "      <td>Property Name</td>\n",
       "    </tr>\n",
       "    <tr>\n",
       "      <th>14</th>\n",
       "      <td>nts_maps</td>\n",
       "      <td>NTS Maps (1:50K)</td>\n",
       "    </tr>\n",
       "    <tr>\n",
       "      <th>15</th>\n",
       "      <td>bcgs_maps</td>\n",
       "      <td>BCGS Map (1:20K)</td>\n",
       "    </tr>\n",
       "    <tr>\n",
       "      <th>16</th>\n",
       "      <td>lat83_deg</td>\n",
       "      <td>Latitude Degrees (NAD83)</td>\n",
       "    </tr>\n",
       "    <tr>\n",
       "      <th>17</th>\n",
       "      <td>lat83_min</td>\n",
       "      <td>Latitude Minutes (NAD83)</td>\n",
       "    </tr>\n",
       "    <tr>\n",
       "      <th>18</th>\n",
       "      <td>lat83_sec</td>\n",
       "      <td>Latitude Seconds (NAD83)</td>\n",
       "    </tr>\n",
       "    <tr>\n",
       "      <th>19</th>\n",
       "      <td>lon83_deg</td>\n",
       "      <td>Longitude Degrees (NAD83)</td>\n",
       "    </tr>\n",
       "    <tr>\n",
       "      <th>20</th>\n",
       "      <td>lon83_min</td>\n",
       "      <td>Longitude Minutes (NAD83)</td>\n",
       "    </tr>\n",
       "    <tr>\n",
       "      <th>21</th>\n",
       "      <td>lon83_sec</td>\n",
       "      <td>Longitude Seconds (NAD83)</td>\n",
       "    </tr>\n",
       "    <tr>\n",
       "      <th>22</th>\n",
       "      <td>zone83</td>\n",
       "      <td>UTM Zone (NAD83)</td>\n",
       "    </tr>\n",
       "    <tr>\n",
       "      <th>23</th>\n",
       "      <td>north83</td>\n",
       "      <td>Northing (NAD83)</td>\n",
       "    </tr>\n",
       "    <tr>\n",
       "      <th>24</th>\n",
       "      <td>east83</td>\n",
       "      <td>Easting (NAD83)</td>\n",
       "    </tr>\n",
       "    <tr>\n",
       "      <th>25</th>\n",
       "      <td>lat83</td>\n",
       "      <td>Latitude Decimal (NAD83)</td>\n",
       "    </tr>\n",
       "    <tr>\n",
       "      <th>26</th>\n",
       "      <td>long83</td>\n",
       "      <td>Longitude Decimal (NAD83)</td>\n",
       "    </tr>\n",
       "    <tr>\n",
       "      <th>27</th>\n",
       "      <td>com_cds</td>\n",
       "      <td>Commodity Codes</td>\n",
       "    </tr>\n",
       "    <tr>\n",
       "      <th>28</th>\n",
       "      <td>camp_cd</td>\n",
       "      <td>Mining Camp Code</td>\n",
       "    </tr>\n",
       "    <tr>\n",
       "      <th>29</th>\n",
       "      <td>geo_sum</td>\n",
       "      <td>Geological Summary</td>\n",
       "    </tr>\n",
       "    <tr>\n",
       "      <th>30</th>\n",
       "      <td>reg_geo</td>\n",
       "      <td>Regional Geologist Area</td>\n",
       "    </tr>\n",
       "    <tr>\n",
       "      <th>31</th>\n",
       "      <td>info_cls</td>\n",
       "      <td>Information Class</td>\n",
       "    </tr>\n",
       "    <tr>\n",
       "      <th>32</th>\n",
       "      <td>mdiv_cds</td>\n",
       "      <td>Mining Division Code</td>\n",
       "    </tr>\n",
       "    <tr>\n",
       "      <th>33</th>\n",
       "      <td>mdiv_nmx</td>\n",
       "      <td>Mining Division</td>\n",
       "    </tr>\n",
       "    <tr>\n",
       "      <th>34</th>\n",
       "      <td>mdiv_nms</td>\n",
       "      <td>Mining Division</td>\n",
       "    </tr>\n",
       "    <tr>\n",
       "      <th>35</th>\n",
       "      <td>claim_nmx</td>\n",
       "      <td>Claim Names</td>\n",
       "    </tr>\n",
       "    <tr>\n",
       "      <th>36</th>\n",
       "      <td>minf_nox</td>\n",
       "      <td>MINFILE Numbers</td>\n",
       "    </tr>\n",
       "    <tr>\n",
       "      <th>37</th>\n",
       "      <td>camp_nm</td>\n",
       "      <td>Mining Camp Name</td>\n",
       "    </tr>\n",
       "    <tr>\n",
       "      <th>38</th>\n",
       "      <td>claim_nms</td>\n",
       "      <td>Claim Names</td>\n",
       "    </tr>\n",
       "    <tr>\n",
       "      <th>39</th>\n",
       "      <td>gwrk_nmx</td>\n",
       "      <td>General Work Categories</td>\n",
       "    </tr>\n",
       "    <tr>\n",
       "      <th>40</th>\n",
       "      <td>gwrk_nms</td>\n",
       "      <td>General Work Categories</td>\n",
       "    </tr>\n",
       "    <tr>\n",
       "      <th>41</th>\n",
       "      <td>rel_ars</td>\n",
       "      <td>Related Assessment Reports</td>\n",
       "    </tr>\n",
       "    <tr>\n",
       "      <th>42</th>\n",
       "      <td>oper_nms</td>\n",
       "      <td>Operator Names</td>\n",
       "    </tr>\n",
       "    <tr>\n",
       "      <th>43</th>\n",
       "      <td>own_nms</td>\n",
       "      <td>Owner Names</td>\n",
       "    </tr>\n",
       "    <tr>\n",
       "      <th>44</th>\n",
       "      <td>auth_nms</td>\n",
       "      <td>Author Names</td>\n",
       "    </tr>\n",
       "    <tr>\n",
       "      <th>45</th>\n",
       "      <td>com_nms</td>\n",
       "      <td>Commodity Names</td>\n",
       "    </tr>\n",
       "    <tr>\n",
       "      <th>46</th>\n",
       "      <td>kwl_nms</td>\n",
       "      <td>Keywords</td>\n",
       "    </tr>\n",
       "    <tr>\n",
       "      <th>47</th>\n",
       "      <td>MERG_SPENT</td>\n",
       "      <td>Work Cost Actual Dollars</td>\n",
       "    </tr>\n",
       "    <tr>\n",
       "      <th>48</th>\n",
       "      <td>DOLL_INX</td>\n",
       "      <td>CPI 1986</td>\n",
       "    </tr>\n",
       "    <tr>\n",
       "      <th>49</th>\n",
       "      <td>doll_86</td>\n",
       "      <td>Work Cost 1986 Dollars</td>\n",
       "    </tr>\n",
       "    <tr>\n",
       "      <th>50</th>\n",
       "      <td>CPIdex1992</td>\n",
       "      <td>CPI 1992</td>\n",
       "    </tr>\n",
       "    <tr>\n",
       "      <th>51</th>\n",
       "      <td>doll_92</td>\n",
       "      <td>Work Cost 1992 Dollars</td>\n",
       "    </tr>\n",
       "    <tr>\n",
       "      <th>52</th>\n",
       "      <td>CPIdex2002</td>\n",
       "      <td>CPI 2002</td>\n",
       "    </tr>\n",
       "    <tr>\n",
       "      <th>53</th>\n",
       "      <td>doll_02</td>\n",
       "      <td>Work Cost 2002 Dollars</td>\n",
       "    </tr>\n",
       "    <tr>\n",
       "      <th>54</th>\n",
       "      <td>URL</td>\n",
       "      <td>URL Link to ARIS Report</td>\n",
       "    </tr>\n",
       "    <tr>\n",
       "      <th>55</th>\n",
       "      <td>NaN</td>\n",
       "      <td>NaN</td>\n",
       "    </tr>\n",
       "    <tr>\n",
       "      <th>56</th>\n",
       "      <td>NaN</td>\n",
       "      <td>NaN</td>\n",
       "    </tr>\n",
       "    <tr>\n",
       "      <th>57</th>\n",
       "      <td>NaN</td>\n",
       "      <td>NaN</td>\n",
       "    </tr>\n",
       "    <tr>\n",
       "      <th>58</th>\n",
       "      <td>NaN</td>\n",
       "      <td>NaN</td>\n",
       "    </tr>\n",
       "  </tbody>\n",
       "</table>\n",
       "</div>"
      ],
      "text/plain": [
       "          Name                 Description\n",
       "0       rep_no    Assessment Report Number\n",
       "1      cnf_prd         Confidential Period\n",
       "2       aff_dt              Affidavit Date\n",
       "3    gwrk_typs          General Work Codes\n",
       "4    claim_val                 Claim Value\n",
       "5        title             Title of Report\n",
       "6       rep_yr                 Report Year\n",
       "7       wrk_yr                   Work Year\n",
       "8   conf_ldate                     no data\n",
       "9   conf_adate        Date Off Confidental\n",
       "10   aff_ndate                     no data\n",
       "11   aff_adate                         NaN\n",
       "12     page_ct                  Page Count\n",
       "13    prpty_nm               Property Name\n",
       "14    nts_maps            NTS Maps (1:50K)\n",
       "15   bcgs_maps            BCGS Map (1:20K)\n",
       "16   lat83_deg    Latitude Degrees (NAD83)\n",
       "17   lat83_min    Latitude Minutes (NAD83)\n",
       "18   lat83_sec    Latitude Seconds (NAD83)\n",
       "19   lon83_deg   Longitude Degrees (NAD83)\n",
       "20   lon83_min   Longitude Minutes (NAD83)\n",
       "21   lon83_sec   Longitude Seconds (NAD83)\n",
       "22      zone83            UTM Zone (NAD83)\n",
       "23     north83            Northing (NAD83)\n",
       "24      east83             Easting (NAD83)\n",
       "25       lat83    Latitude Decimal (NAD83)\n",
       "26      long83   Longitude Decimal (NAD83)\n",
       "27     com_cds             Commodity Codes\n",
       "28     camp_cd            Mining Camp Code\n",
       "29     geo_sum          Geological Summary\n",
       "30     reg_geo     Regional Geologist Area\n",
       "31    info_cls           Information Class\n",
       "32    mdiv_cds        Mining Division Code\n",
       "33    mdiv_nmx             Mining Division\n",
       "34    mdiv_nms             Mining Division\n",
       "35   claim_nmx                 Claim Names\n",
       "36    minf_nox             MINFILE Numbers\n",
       "37     camp_nm            Mining Camp Name\n",
       "38   claim_nms                 Claim Names\n",
       "39    gwrk_nmx     General Work Categories\n",
       "40    gwrk_nms     General Work Categories\n",
       "41     rel_ars  Related Assessment Reports\n",
       "42    oper_nms              Operator Names\n",
       "43     own_nms                 Owner Names\n",
       "44    auth_nms                Author Names\n",
       "45     com_nms             Commodity Names\n",
       "46     kwl_nms                    Keywords\n",
       "47  MERG_SPENT    Work Cost Actual Dollars\n",
       "48    DOLL_INX                    CPI 1986\n",
       "49     doll_86      Work Cost 1986 Dollars\n",
       "50  CPIdex1992                    CPI 1992\n",
       "51     doll_92      Work Cost 1992 Dollars\n",
       "52  CPIdex2002                    CPI 2002\n",
       "53     doll_02      Work Cost 2002 Dollars\n",
       "54         URL     URL Link to ARIS Report\n",
       "55         NaN                         NaN\n",
       "56         NaN                         NaN\n",
       "57         NaN                         NaN\n",
       "58         NaN                         NaN"
      ]
     },
     "execution_count": 5,
     "metadata": {},
     "output_type": "execute_result"
    }
   ],
   "source": [
    "pd.read_csv('../data/canada/british-columbia/arismetadata.csv')[['Name','Description']]"
   ]
  },
  {
   "cell_type": "code",
   "execution_count": 6,
   "metadata": {},
   "outputs": [
    {
     "data": {
      "text/plain": [
       "<matplotlib.axes._subplots.AxesSubplot at 0x1104c6da0>"
      ]
     },
     "execution_count": 6,
     "metadata": {},
     "output_type": "execute_result"
    },
    {
     "data": {
      "image/png": "[encoded data removed]",
      "text/plain": [
       "<Figure size 432x288 with 1 Axes>"
      ]
     },
     "metadata": {
      "needs_background": "light"
     },
     "output_type": "display_data"
    }
   ],
   "source": [
    "df[~df.com_nms.isnull()].wrk_yr.plot.hist()"
   ]
  },
  {
   "cell_type": "code",
   "execution_count": 7,
   "metadata": {},
   "outputs": [
    {
     "data": {
      "text/plain": [
       "<matplotlib.axes._subplots.AxesSubplot at 0x111395588>"
      ]
     },
     "execution_count": 7,
     "metadata": {},
     "output_type": "execute_result"
    },
    {
     "data": {
      "image/png": "[encoded data removed]",
      "text/plain": [
       "<Figure size 432x288 with 1 Axes>"
      ]
     },
     "metadata": {
      "needs_background": "light"
     },
     "output_type": "display_data"
    }
   ],
   "source": [
    "df[df.com_nms.isnull()].wrk_yr.plot.hist()"
   ]
  },
  {
   "cell_type": "code",
   "execution_count": 8,
   "metadata": {},
   "outputs": [
    {
     "data": {
      "text/html": [
       "<div>\n",
       "<style scoped>\n",
       "    .dataframe tbody tr th:only-of-type {\n",
       "        vertical-align: middle;\n",
       "    }\n",
       "\n",
       "    .dataframe tbody tr th {\n",
       "        vertical-align: top;\n",
       "    }\n",
       "\n",
       "    .dataframe thead th {\n",
       "        text-align: right;\n",
       "    }\n",
       "</style>\n",
       "<table border=\"1\" class=\"dataframe\">\n",
       "  <thead>\n",
       "    <tr style=\"text-align: right;\">\n",
       "      <th></th>\n",
       "      <th>0</th>\n",
       "    </tr>\n",
       "  </thead>\n",
       "  <tbody>\n",
       "    <tr>\n",
       "      <th>rep_no</th>\n",
       "      <td>1</td>\n",
       "    </tr>\n",
       "    <tr>\n",
       "      <th>cnf_prd</th>\n",
       "      <td>1</td>\n",
       "    </tr>\n",
       "    <tr>\n",
       "      <th>aff_dt</th>\n",
       "      <td>01-01-1947</td>\n",
       "    </tr>\n",
       "    <tr>\n",
       "      <th>gwrk_typs</th>\n",
       "      <td>GEOL:</td>\n",
       "    </tr>\n",
       "    <tr>\n",
       "      <th>claim_val</th>\n",
       "      <td>0</td>\n",
       "    </tr>\n",
       "    <tr>\n",
       "      <th>title</th>\n",
       "      <td>Geological Report on the Moyie Groups 1-6 and the ML 55 Claim</td>\n",
       "    </tr>\n",
       "    <tr>\n",
       "      <th>rep_yr</th>\n",
       "      <td>1947</td>\n",
       "    </tr>\n",
       "    <tr>\n",
       "      <th>wrk_yr</th>\n",
       "      <td>1947</td>\n",
       "    </tr>\n",
       "    <tr>\n",
       "      <th>conf_ldate</th>\n",
       "      <td>NaN</td>\n",
       "    </tr>\n",
       "    <tr>\n",
       "      <th>conf_adate</th>\n",
       "      <td>1948-01-01</td>\n",
       "    </tr>\n",
       "    <tr>\n",
       "      <th>aff_ndate</th>\n",
       "      <td>NaN</td>\n",
       "    </tr>\n",
       "    <tr>\n",
       "      <th>aff_adate</th>\n",
       "      <td>1947-01-01</td>\n",
       "    </tr>\n",
       "    <tr>\n",
       "      <th>page_ct</th>\n",
       "      <td>6</td>\n",
       "    </tr>\n",
       "    <tr>\n",
       "      <th>prpty_nm</th>\n",
       "      <td>Moyie</td>\n",
       "    </tr>\n",
       "    <tr>\n",
       "      <th>nts_maps</th>\n",
       "      <td>082G05W:</td>\n",
       "    </tr>\n",
       "    <tr>\n",
       "      <th>bcgs_maps</th>\n",
       "      <td>082G021</td>\n",
       "    </tr>\n",
       "    <tr>\n",
       "      <th>lat83_deg</th>\n",
       "      <td>49</td>\n",
       "    </tr>\n",
       "    <tr>\n",
       "      <th>lat83_min</th>\n",
       "      <td>17</td>\n",
       "    </tr>\n",
       "    <tr>\n",
       "      <th>lat83_sec</th>\n",
       "      <td>36</td>\n",
       "    </tr>\n",
       "    <tr>\n",
       "      <th>lon83_deg</th>\n",
       "      <td>115</td>\n",
       "    </tr>\n",
       "    <tr>\n",
       "      <th>lon83_min</th>\n",
       "      <td>48</td>\n",
       "    </tr>\n",
       "    <tr>\n",
       "      <th>lon83_sec</th>\n",
       "      <td>40</td>\n",
       "    </tr>\n",
       "    <tr>\n",
       "      <th>zone83</th>\n",
       "      <td>11</td>\n",
       "    </tr>\n",
       "    <tr>\n",
       "      <th>north83</th>\n",
       "      <td>5460745</td>\n",
       "    </tr>\n",
       "    <tr>\n",
       "      <th>east83</th>\n",
       "      <td>586446</td>\n",
       "    </tr>\n",
       "    <tr>\n",
       "      <th>lat83</th>\n",
       "      <td>49.2933</td>\n",
       "    </tr>\n",
       "    <tr>\n",
       "      <th>long83</th>\n",
       "      <td>-115.811</td>\n",
       "    </tr>\n",
       "    <tr>\n",
       "      <th>com_cds</th>\n",
       "      <td>AG:AU:</td>\n",
       "    </tr>\n",
       "    <tr>\n",
       "      <th>camp_cd</th>\n",
       "      <td>NaN</td>\n",
       "    </tr>\n",
       "    <tr>\n",
       "      <th>geo_sum</th>\n",
       "      <td>NaN</td>\n",
       "    </tr>\n",
       "    <tr>\n",
       "      <th>reg_geo</th>\n",
       "      <td>NEL</td>\n",
       "    </tr>\n",
       "    <tr>\n",
       "      <th>info_cls</th>\n",
       "      <td>NaN</td>\n",
       "    </tr>\n",
       "    <tr>\n",
       "      <th>mdiv_cds</th>\n",
       "      <td>FORT:</td>\n",
       "    </tr>\n",
       "    <tr>\n",
       "      <th>mdiv_nmx</th>\n",
       "      <td>Fort Steele</td>\n",
       "    </tr>\n",
       "    <tr>\n",
       "      <th>mdiv_nms</th>\n",
       "      <td>Fort Steele</td>\n",
       "    </tr>\n",
       "    <tr>\n",
       "      <th>claim_nmx</th>\n",
       "      <td>BARKSHANTY,&lt;br&gt;ETNA,&lt;br&gt;LARSON,&lt;br&gt;TRADEDOLLAR</td>\n",
       "    </tr>\n",
       "    <tr>\n",
       "      <th>minf_nox</th>\n",
       "      <td>NaN</td>\n",
       "    </tr>\n",
       "    <tr>\n",
       "      <th>camp_nm</th>\n",
       "      <td>NaN</td>\n",
       "    </tr>\n",
       "    <tr>\n",
       "      <th>claim_nms</th>\n",
       "      <td>BARKSHANTY, ETNA, LARSON, TRADEDOLLAR</td>\n",
       "    </tr>\n",
       "    <tr>\n",
       "      <th>gwrk_nmx</th>\n",
       "      <td>Geological</td>\n",
       "    </tr>\n",
       "    <tr>\n",
       "      <th>gwrk_nms</th>\n",
       "      <td>Geological</td>\n",
       "    </tr>\n",
       "    <tr>\n",
       "      <th>rel_ars</th>\n",
       "      <td>NaN</td>\n",
       "    </tr>\n",
       "    <tr>\n",
       "      <th>oper_nms</th>\n",
       "      <td>St. Eugene Mining Corporation Limited</td>\n",
       "    </tr>\n",
       "    <tr>\n",
       "      <th>own_nms</th>\n",
       "      <td>NaN</td>\n",
       "    </tr>\n",
       "    <tr>\n",
       "      <th>auth_nms</th>\n",
       "      <td>Smith, Adrian</td>\n",
       "    </tr>\n",
       "    <tr>\n",
       "      <th>com_nms</th>\n",
       "      <td>Silver, Gold</td>\n",
       "    </tr>\n",
       "    <tr>\n",
       "      <th>kwl_nms</th>\n",
       "      <td>NaN</td>\n",
       "    </tr>\n",
       "    <tr>\n",
       "      <th>MERG_SPENT</th>\n",
       "      <td>6000</td>\n",
       "    </tr>\n",
       "    <tr>\n",
       "      <th>DOLL_INX</th>\n",
       "      <td>0.157</td>\n",
       "    </tr>\n",
       "    <tr>\n",
       "      <th>doll_86</th>\n",
       "      <td>38216.6</td>\n",
       "    </tr>\n",
       "    <tr>\n",
       "      <th>CPIdex1992</th>\n",
       "      <td>0.123</td>\n",
       "    </tr>\n",
       "    <tr>\n",
       "      <th>doll_92</th>\n",
       "      <td>48780.5</td>\n",
       "    </tr>\n",
       "    <tr>\n",
       "      <th>CPIdex2002</th>\n",
       "      <td>0.104</td>\n",
       "    </tr>\n",
       "    <tr>\n",
       "      <th>doll_02</th>\n",
       "      <td>57692.3</td>\n",
       "    </tr>\n",
       "    <tr>\n",
       "      <th>URL</th>\n",
       "      <td>http://aris.empr.gov.bc.ca/search.asp?mode=repsum&amp;rep_no=00001</td>\n",
       "    </tr>\n",
       "    <tr>\n",
       "      <th>rprt_year_num</th>\n",
       "      <td>NaN</td>\n",
       "    </tr>\n",
       "  </tbody>\n",
       "</table>\n",
       "</div>"
      ],
      "text/plain": [
       "                                                                            0\n",
       "rep_no                                                                      1\n",
       "cnf_prd                                                                     1\n",
       "aff_dt                                                             01-01-1947\n",
       "gwrk_typs                                                               GEOL:\n",
       "claim_val                                                                   0\n",
       "title           Geological Report on the Moyie Groups 1-6 and the ML 55 Claim\n",
       "rep_yr                                                                   1947\n",
       "wrk_yr                                                                   1947\n",
       "conf_ldate                                                                NaN\n",
       "conf_adate                                                         1948-01-01\n",
       "aff_ndate                                                                 NaN\n",
       "aff_adate                                                          1947-01-01\n",
       "page_ct                                                                     6\n",
       "prpty_nm                                                                Moyie\n",
       "nts_maps                                                             082G05W:\n",
       "bcgs_maps                                                             082G021\n",
       "lat83_deg                                                                  49\n",
       "lat83_min                                                                  17\n",
       "lat83_sec                                                                  36\n",
       "lon83_deg                                                                 115\n",
       "lon83_min                                                                  48\n",
       "lon83_sec                                                                  40\n",
       "zone83                                                                     11\n",
       "north83                                                               5460745\n",
       "east83                                                                 586446\n",
       "lat83                                                                 49.2933\n",
       "long83                                                               -115.811\n",
       "com_cds                                                                AG:AU:\n",
       "camp_cd                                                                   NaN\n",
       "geo_sum                                                                   NaN\n",
       "reg_geo                                                                   NEL\n",
       "info_cls                                                                  NaN\n",
       "mdiv_cds                                                                FORT:\n",
       "mdiv_nmx                                                          Fort Steele\n",
       "mdiv_nms                                                          Fort Steele\n",
       "claim_nmx                      BARKSHANTY,<br>ETNA,<br>LARSON,<br>TRADEDOLLAR\n",
       "minf_nox                                                                  NaN\n",
       "camp_nm                                                                   NaN\n",
       "claim_nms                               BARKSHANTY, ETNA, LARSON, TRADEDOLLAR\n",
       "gwrk_nmx                                                           Geological\n",
       "gwrk_nms                                                           Geological\n",
       "rel_ars                                                                   NaN\n",
       "oper_nms                                St. Eugene Mining Corporation Limited\n",
       "own_nms                                                                   NaN\n",
       "auth_nms                                                        Smith, Adrian\n",
       "com_nms                                                          Silver, Gold\n",
       "kwl_nms                                                                   NaN\n",
       "MERG_SPENT                                                               6000\n",
       "DOLL_INX                                                                0.157\n",
       "doll_86                                                               38216.6\n",
       "CPIdex1992                                                              0.123\n",
       "doll_92                                                               48780.5\n",
       "CPIdex2002                                                              0.104\n",
       "doll_02                                                               57692.3\n",
       "URL            http://aris.empr.gov.bc.ca/search.asp?mode=repsum&rep_no=00001\n",
       "rprt_year_num                                                             NaN"
      ]
     },
     "execution_count": 8,
     "metadata": {},
     "output_type": "execute_result"
    }
   ],
   "source": [
    "df.head(1).T"
   ]
  },
  {
   "cell_type": "code",
   "execution_count": 9,
   "metadata": {},
   "outputs": [
    {
     "data": {
      "text/plain": [
       "rep_no             0.000000\n",
       "cnf_prd            0.454064\n",
       "aff_dt             0.000000\n",
       "gwrk_typs          0.000000\n",
       "claim_val          0.000000\n",
       "title             10.560477\n",
       "rep_yr             0.000000\n",
       "wrk_yr            22.856427\n",
       "conf_ldate       100.000000\n",
       "conf_adate         0.454064\n",
       "aff_ndate        100.000000\n",
       "aff_adate          0.000000\n",
       "page_ct            0.000000\n",
       "prpty_nm          10.566048\n",
       "nts_maps           0.000000\n",
       "bcgs_maps          0.000000\n",
       "lat83_deg          0.000000\n",
       "lat83_min          0.000000\n",
       "lat83_sec          0.000000\n",
       "lon83_deg          0.000000\n",
       "lon83_min          0.000000\n",
       "lon83_sec          0.000000\n",
       "zone83             0.000000\n",
       "north83            0.000000\n",
       "east83             0.000000\n",
       "lat83              0.000000\n",
       "long83             0.000000\n",
       "com_cds           58.226085\n",
       "camp_cd           74.338403\n",
       "geo_sum           75.539027\n",
       "reg_geo           35.598083\n",
       "info_cls          12.591231\n",
       "mdiv_cds           0.005571\n",
       "mdiv_nmx           0.005571\n",
       "mdiv_nms           0.005571\n",
       "claim_nmx          0.005571\n",
       "minf_nox          60.167697\n",
       "camp_nm           74.338403\n",
       "claim_nms          0.005571\n",
       "gwrk_nmx           0.000000\n",
       "gwrk_nms           0.000000\n",
       "rel_ars           53.702156\n",
       "oper_nms           0.311995\n",
       "own_nms           41.952198\n",
       "auth_nms           0.791130\n",
       "com_nms           58.231656\n",
       "kwl_nms           49.557078\n",
       "MERG_SPENT         0.665775\n",
       "DOLL_INX           0.005571\n",
       "doll_86            0.668561\n",
       "CPIdex1992         0.005571\n",
       "doll_92            0.668561\n",
       "CPIdex2002         0.005571\n",
       "doll_02            0.668561\n",
       "URL                0.000000\n",
       "rprt_year_num    100.000000\n",
       "dtype: float64"
      ]
     },
     "execution_count": 9,
     "metadata": {},
     "output_type": "execute_result"
    }
   ],
   "source": [
    "df.isnull().sum() / len(df) * 100"
   ]
  },
  {
   "cell_type": "code",
   "execution_count": 10,
   "metadata": {},
   "outputs": [],
   "source": [
    "col_subset = ['rep_no', 'rep_yr', 'lat83', 'long83']\n",
    "col_com = 'com_nms'"
   ]
  },
  {
   "cell_type": "code",
   "execution_count": 11,
   "metadata": {},
   "outputs": [],
   "source": [
    "mask = (~df[col_com].isnull())\n",
    "df_min = pd.DataFrame(\n",
    "[cols+[comm] for cols, comms in\n",
    "zip(df[mask][col_subset].values.tolist(), df[mask][col_com].str.split(', ').values.tolist())\n",
    "for comm in comms],\n",
    "columns=col_subset+[col_com])"
   ]
  },
  {
   "cell_type": "code",
   "execution_count": 12,
   "metadata": {},
   "outputs": [],
   "source": [
    "df_min = df_min.rename(columns={'com_nms': 'commodity'})"
   ]
  },
  {
   "cell_type": "code",
   "execution_count": 13,
   "metadata": {},
   "outputs": [],
   "source": [
    "df_min.rep_yr = df_min.rep_yr.astype(int)"
   ]
  },
  {
   "cell_type": "code",
   "execution_count": 14,
   "metadata": {},
   "outputs": [
    {
     "data": {
      "text/plain": [
       "1"
      ]
     },
     "execution_count": 14,
     "metadata": {},
     "output_type": "execute_result"
    }
   ],
   "source": [
    "(df_min.rep_yr < 1900).sum()"
   ]
  },
  {
   "cell_type": "code",
   "execution_count": 15,
   "metadata": {},
   "outputs": [],
   "source": [
    "df_min = df_min[df_min.rep_yr > 1900]"
   ]
  },
  {
   "cell_type": "code",
   "execution_count": 16,
   "metadata": {},
   "outputs": [
    {
     "data": {
      "text/html": [
       "<div>\n",
       "<style scoped>\n",
       "    .dataframe tbody tr th:only-of-type {\n",
       "        vertical-align: middle;\n",
       "    }\n",
       "\n",
       "    .dataframe tbody tr th {\n",
       "        vertical-align: top;\n",
       "    }\n",
       "\n",
       "    .dataframe thead th {\n",
       "        text-align: right;\n",
       "    }\n",
       "</style>\n",
       "<table border=\"1\" class=\"dataframe\">\n",
       "  <thead>\n",
       "    <tr style=\"text-align: right;\">\n",
       "      <th></th>\n",
       "      <th>rep_no</th>\n",
       "      <th>rep_yr</th>\n",
       "      <th>lat83</th>\n",
       "      <th>long83</th>\n",
       "      <th>commodity</th>\n",
       "    </tr>\n",
       "  </thead>\n",
       "  <tbody>\n",
       "    <tr>\n",
       "      <th>0</th>\n",
       "      <td>1.0</td>\n",
       "      <td>1947</td>\n",
       "      <td>49.293333</td>\n",
       "      <td>-115.811111</td>\n",
       "      <td>Silver</td>\n",
       "    </tr>\n",
       "    <tr>\n",
       "      <th>1</th>\n",
       "      <td>1.0</td>\n",
       "      <td>1947</td>\n",
       "      <td>49.293333</td>\n",
       "      <td>-115.811111</td>\n",
       "      <td>Gold</td>\n",
       "    </tr>\n",
       "    <tr>\n",
       "      <th>2</th>\n",
       "      <td>49.0</td>\n",
       "      <td>1950</td>\n",
       "      <td>50.486667</td>\n",
       "      <td>-119.119444</td>\n",
       "      <td>Mica</td>\n",
       "    </tr>\n",
       "    <tr>\n",
       "      <th>3</th>\n",
       "      <td>60.0</td>\n",
       "      <td>1951</td>\n",
       "      <td>50.661667</td>\n",
       "      <td>-120.496389</td>\n",
       "      <td>Copper</td>\n",
       "    </tr>\n",
       "    <tr>\n",
       "      <th>4</th>\n",
       "      <td>69.0</td>\n",
       "      <td>1951</td>\n",
       "      <td>51.331667</td>\n",
       "      <td>-119.926111</td>\n",
       "      <td>Zinc</td>\n",
       "    </tr>\n",
       "  </tbody>\n",
       "</table>\n",
       "</div>"
      ],
      "text/plain": [
       "   rep_no  rep_yr      lat83      long83 commodity\n",
       "0     1.0    1947  49.293333 -115.811111    Silver\n",
       "1     1.0    1947  49.293333 -115.811111      Gold\n",
       "2    49.0    1950  50.486667 -119.119444      Mica\n",
       "3    60.0    1951  50.661667 -120.496389    Copper\n",
       "4    69.0    1951  51.331667 -119.926111      Zinc"
      ]
     },
     "execution_count": 16,
     "metadata": {},
     "output_type": "execute_result"
    }
   ],
   "source": [
    "df_min.head()"
   ]
  },
  {
   "cell_type": "code",
   "execution_count": 17,
   "metadata": {},
   "outputs": [
    {
     "data": {
      "text/plain": [
       "(14994, 14993)"
      ]
     },
     "execution_count": 17,
     "metadata": {},
     "output_type": "execute_result"
    }
   ],
   "source": [
    "# rep no is a unique ID\n",
    "len(df) - df.com_nms.isnull().sum(), len(df_min.rep_no.unique())"
   ]
  },
  {
   "cell_type": "markdown",
   "metadata": {},
   "source": [
    "# 1.0.2 Analysis"
   ]
  },
  {
   "cell_type": "markdown",
   "metadata": {},
   "source": [
    "## Minerals in the dataset"
   ]
  },
  {
   "cell_type": "code",
   "execution_count": 18,
   "metadata": {},
   "outputs": [
    {
     "data": {
      "text/plain": [
       "Gold                      11134\n",
       "Copper                     7672\n",
       "Silver                     6656\n",
       "Zinc                       4284\n",
       "Lead                       3717\n",
       "Molybdenum/Molybdenite     1453\n",
       "Platinum                    312\n",
       "Nickel                      309\n",
       "Tungsten                    225\n",
       "Palladium                   220\n",
       "Iron                        197\n",
       "Limestone                   183\n",
       "Cobalt                      173\n",
       "Barium/Barite               147\n",
       "Arsenic                     144\n",
       "Antimony                    133\n",
       "Rare Earths                 107\n",
       "Cadmium                      84\n",
       "Chromium/Chromite            70\n",
       "Niobium/Columbium            69\n",
       "Diamond                      67\n",
       "Dimension Stone              63\n",
       "Jade/Nephrite                60\n",
       "Uranium                      60\n",
       "Magnesite                    60\n",
       "Phosphate                    54\n",
       "Silica                       54\n",
       "Bismuth                      53\n",
       "Mercury                      53\n",
       "Graphite                     51\n",
       "Rhenium                      42\n",
       "Marble                       41\n",
       "Gemstones                    41\n",
       "Granite                      40\n",
       "Tantalum                     37\n",
       "Magnetite                    35\n",
       "Talc                         34\n",
       "Magnesium                    34\n",
       "Zeolite                      30\n",
       "Bentonite                    29\n",
       "Aggregate                    29\n",
       "Gypsum                       25\n",
       "Manganese                    25\n",
       "Tellurium                    24\n",
       "Tin                          20\n",
       "Building Stone               20\n",
       "Dolomite                     20\n",
       "Fluorite                     19\n",
       "Garnet                       17\n",
       "Titanium                     17\n",
       "Name: commodity, dtype: int64"
      ]
     },
     "execution_count": 18,
     "metadata": {},
     "output_type": "execute_result"
    }
   ],
   "source": [
    "df_min.commodity.value_counts(ascending=False).head(50)"
   ]
  },
  {
   "cell_type": "code",
   "execution_count": 19,
   "metadata": {},
   "outputs": [
    {
     "data": {
      "text/plain": [
       "<matplotlib.axes._subplots.AxesSubplot at 0x1104bf400>"
      ]
     },
     "execution_count": 19,
     "metadata": {},
     "output_type": "execute_result"
    },
    {
     "data": {
      "image/png": "[encoded data removed]",
      "text/plain": [
       "<Figure size 432x288 with 1 Axes>"
      ]
     },
     "metadata": {
      "needs_background": "light"
     },
     "output_type": "display_data"
    }
   ],
   "source": [
    "df_min.commodity.value_counts(ascending=False).head(20)[::-1].plot.barh()"
   ]
  },
  {
   "cell_type": "markdown",
   "metadata": {},
   "source": [
    "**Average number of minerals per site**"
   ]
  },
  {
   "cell_type": "code",
   "execution_count": 20,
   "metadata": {},
   "outputs": [
    {
     "data": {
      "text/plain": [
       "Index(['rep_no', 'rep_yr', 'lat83', 'long83', 'commodity'], dtype='object')"
      ]
     },
     "execution_count": 20,
     "metadata": {},
     "output_type": "execute_result"
    }
   ],
   "source": [
    "df_min.columns"
   ]
  },
  {
   "cell_type": "code",
   "execution_count": 21,
   "metadata": {},
   "outputs": [
    {
     "data": {
      "text/plain": [
       "2.590809044220636"
      ]
     },
     "execution_count": 21,
     "metadata": {},
     "output_type": "execute_result"
    }
   ],
   "source": [
    "df_min.groupby('rep_no').commodity.size().mean()"
   ]
  },
  {
   "cell_type": "markdown",
   "metadata": {},
   "source": [
    "**Depth distribution**"
   ]
  },
  {
   "cell_type": "code",
   "execution_count": 22,
   "metadata": {},
   "outputs": [
    {
     "ename": "AttributeError",
     "evalue": "'DataFrame' object has no attribute 'elevation'",
     "traceback": [
      "\u001b[0;31m---------------------------------------------------------------------------\u001b[0m",
      "\u001b[0;31mAttributeError\u001b[0m                            Traceback (most recent call last)",
      "\u001b[0;32m<ipython-input-22-05cc22a29b7d>\u001b[0m in \u001b[0;36m<module>\u001b[0;34m\u001b[0m\n\u001b[0;32m----> 1\u001b[0;31m \u001b[0mdf_min\u001b[0m\u001b[0;34m.\u001b[0m\u001b[0melevation\u001b[0m\u001b[0;34m.\u001b[0m\u001b[0mhist\u001b[0m\u001b[0;34m(\u001b[0m\u001b[0mbins\u001b[0m\u001b[0;34m=\u001b[0m\u001b[0;36m50\u001b[0m\u001b[0;34m,\u001b[0m \u001b[0mlabel\u001b[0m\u001b[0;34m=\u001b[0m\u001b[0;34m'All minerals'\u001b[0m\u001b[0;34m)\u001b[0m\u001b[0;34m\u001b[0m\u001b[0;34m\u001b[0m\u001b[0m\n\u001b[0m\u001b[1;32m      2\u001b[0m \u001b[0mplt\u001b[0m\u001b[0;34m.\u001b[0m\u001b[0mlegend\u001b[0m\u001b[0;34m(\u001b[0m\u001b[0;34m)\u001b[0m\u001b[0;34m\u001b[0m\u001b[0;34m\u001b[0m\u001b[0m\n",
      "\u001b[0;32m~/.local/share/virtualenvs/mapo-UiWkyUBs/lib/python3.6/site-packages/pandas/core/generic.py\u001b[0m in \u001b[0;36m__getattr__\u001b[0;34m(self, name)\u001b[0m\n\u001b[1;32m   5065\u001b[0m             \u001b[0;32mif\u001b[0m \u001b[0mself\u001b[0m\u001b[0;34m.\u001b[0m\u001b[0m_info_axis\u001b[0m\u001b[0;34m.\u001b[0m\u001b[0m_can_hold_identifiers_and_holds_name\u001b[0m\u001b[0;34m(\u001b[0m\u001b[0mname\u001b[0m\u001b[0;34m)\u001b[0m\u001b[0;34m:\u001b[0m\u001b[0;34m\u001b[0m\u001b[0;34m\u001b[0m\u001b[0m\n\u001b[1;32m   5066\u001b[0m                 \u001b[0;32mreturn\u001b[0m \u001b[0mself\u001b[0m\u001b[0;34m[\u001b[0m\u001b[0mname\u001b[0m\u001b[0;34m]\u001b[0m\u001b[0;34m\u001b[0m\u001b[0;34m\u001b[0m\u001b[0m\n\u001b[0;32m-> 5067\u001b[0;31m             \u001b[0;32mreturn\u001b[0m \u001b[0mobject\u001b[0m\u001b[0;34m.\u001b[0m\u001b[0m__getattribute__\u001b[0m\u001b[0;34m(\u001b[0m\u001b[0mself\u001b[0m\u001b[0;34m,\u001b[0m \u001b[0mname\u001b[0m\u001b[0;34m)\u001b[0m\u001b[0;34m\u001b[0m\u001b[0;34m\u001b[0m\u001b[0m\n\u001b[0m\u001b[1;32m   5068\u001b[0m \u001b[0;34m\u001b[0m\u001b[0m\n\u001b[1;32m   5069\u001b[0m     \u001b[0;32mdef\u001b[0m \u001b[0m__setattr__\u001b[0m\u001b[0;34m(\u001b[0m\u001b[0mself\u001b[0m\u001b[0;34m,\u001b[0m \u001b[0mname\u001b[0m\u001b[0;34m,\u001b[0m \u001b[0mvalue\u001b[0m\u001b[0;34m)\u001b[0m\u001b[0;34m:\u001b[0m\u001b[0;34m\u001b[0m\u001b[0;34m\u001b[0m\u001b[0m\n",
      "\u001b[0;31mAttributeError\u001b[0m: 'DataFrame' object has no attribute 'elevation'"
     ],
     "output_type": "error"
    }
   ],
   "source": [
    "df_min.elevation.hist(bins=50, label='All minerals')\n",
    "plt.legend()"
   ]
  },
  {
   "cell_type": "code",
   "execution_count": null,
   "metadata": {},
   "outputs": [],
   "source": [
    "df_min[df_min.commodity=='Gold'].elevation.hist(bins=50, label='Gold')\n",
    "plt.legend()"
   ]
  },
  {
   "cell_type": "markdown",
   "metadata": {},
   "source": [
    "## 1.0.3 Map plots"
   ]
  },
  {
   "cell_type": "code",
   "execution_count": null,
   "metadata": {},
   "outputs": [],
   "source": [
    "def plot_map(df_min, commodity='', quality='l'):\n",
    "    if commodity:\n",
    "        longs = list(df_min[df_min.commodity == commodity].long83)\n",
    "        latts = list(df_min[df_min.commodity == commodity].lat83)\n",
    "    else:\n",
    "        longs = list(df_min.long83)\n",
    "        latts = list(df_min.lat83)\n",
    "        \n",
    "    # plot the blank world map\n",
    "    my_map = Basemap(projection='merc', lat_0=50, lon_0=-100,\n",
    "        resolution = quality, area_thresh = 5000.0,\n",
    "        llcrnrlon=min(longs), llcrnrlat=min(latts),\n",
    "        urcrnrlon=max(longs), urcrnrlat=max(latts))\n",
    "\n",
    "    # set resolution='h' for high quality\n",
    "    # draw elements onto the world map\n",
    "    my_map.drawcountries()\n",
    "    #my_map.drawstates()\n",
    "    my_map.drawcoastlines(antialiased=False,\n",
    "        linewidth=0.005)\n",
    "    # add coordinates as red dots\n",
    "    x, y = my_map(longs, latts)\n",
    "    my_map.plot(x, y, 'ro', markersize=0.5, alpha=0.5)\n",
    "    plt.show()"
   ]
  },
  {
   "cell_type": "code",
   "execution_count": null,
   "metadata": {},
   "outputs": [],
   "source": [
    "plot_map(df_min.groupby('rep_no').head(1))"
   ]
  },
  {
   "cell_type": "code",
   "execution_count": null,
   "metadata": {},
   "outputs": [],
   "source": [
    "plot_map(df_min, 'Gold')"
   ]
  },
  {
   "cell_type": "code",
   "execution_count": null,
   "metadata": {},
   "outputs": [],
   "source": [
    "plot_map(df_min, 'Copper')"
   ]
  },
  {
   "cell_type": "code",
   "execution_count": null,
   "metadata": {},
   "outputs": [],
   "source": [
    "plot_map(df_min, 'Cobalt')"
   ]
  },
  {
   "cell_type": "markdown",
   "metadata": {},
   "source": [
    "**1.0.4 Depoits by discovery date**"
   ]
  },
  {
   "cell_type": "code",
   "execution_count": null,
   "metadata": {},
   "outputs": [],
   "source": [
    "df_min.groupby('rep_no').head(1).rep_yr.plot.hist(50)"
   ]
  },
  {
   "cell_type": "code",
   "execution_count": null,
   "metadata": {},
   "outputs": [],
   "source": [
    "df_min[df_min.commodity == 'Gold'].rep_yr.plot.hist(50)"
   ]
  },
  {
   "cell_type": "code",
   "execution_count": null,
   "metadata": {},
   "outputs": [],
   "source": [
    "gold = df_min[df_min.commodity == 'Gold']\n",
    "len(gold)"
   ]
  },
  {
   "cell_type": "code",
   "execution_count": null,
   "metadata": {},
   "outputs": [],
   "source": [
    "fig = plt.figure(figsize=(9, 8))\n",
    "gold.groupby('rep_yr').size().plot.barh()"
   ]
  },
  {
   "cell_type": "code",
   "execution_count": null,
   "metadata": {},
   "outputs": [],
   "source": [
    "gold = df_min[df_min.commodity == 'Cobalt']\n",
    "len(gold)"
   ]
  },
  {
   "cell_type": "markdown",
   "metadata": {},
   "source": [
    "## 1.0.3 Load and clean MINFile Minerals"
   ]
  },
  {
   "cell_type": "code",
   "execution_count": null,
   "metadata": {
    "scrolled": true
   },
   "outputs": [],
   "source": [
    "mf_minerals = pd.read_csv('../data/canada/british-columbia/MINFILE.csv', encoding='latin')"
   ]
  },
  {
   "cell_type": "code",
   "execution_count": null,
   "metadata": {},
   "outputs": [],
   "source": [
    "mf_minerals.head()"
   ]
  },
  {
   "cell_type": "code",
   "execution_count": null,
   "metadata": {},
   "outputs": [],
   "source": [
    "# Transform the data set so that commodity codes and names are now in rows instead of columns\n",
    "mf_minerals = pd.melt(mf_minerals, \n",
    "        id_vars=[x for x in mf_minerals.columns if 'COMMODITY_CODE' not in x], \n",
    "        value_vars=[x for x in mf_minerals.columns if 'COMMODITY_CODE' in x], \n",
    "        var_name=\"commodity_code_ph\", value_name=\"commodity_code\")\n",
    "\n",
    "mf_minerals = pd.melt(mf_minerals, \n",
    "        id_vars=[x for x in mf_minerals.columns if 'COMMODITY_DESCRIPTION' not in x], \n",
    "        value_vars=[x for x in mf_minerals.columns if 'COMMODITY_DESCRIPTION' in x], \n",
    "        var_name=\"commodity_ph\", value_name=\"commodity\")"
   ]
  },
  {
   "cell_type": "code",
   "execution_count": null,
   "metadata": {},
   "outputs": [],
   "source": [
    "mf_minerals.head()"
   ]
  },
  {
   "cell_type": "code",
   "execution_count": null,
   "metadata": {},
   "outputs": [],
   "source": [
    "mf_minerals = mf_minerals.rename(index=str, columns={\n",
    "    \"DECIMAL_LONGITUDE\": \"long83\",\n",
    "    \"DECIMAL_LATITUDE\": \"lat83\"\n",
    "})"
   ]
  },
  {
   "cell_type": "code",
   "execution_count": null,
   "metadata": {},
   "outputs": [],
   "source": [
    "mf_minerals.commodity = mf_minerals.commodity.str.strip()"
   ]
  },
  {
   "cell_type": "code",
   "execution_count": null,
   "metadata": {},
   "outputs": [],
   "source": [
    "plot_map(mf_minerals, \"Gold\")"
   ]
  },
  {
   "cell_type": "code",
   "execution_count": null,
   "metadata": {},
   "outputs": [],
   "source": [
    "plot_map(mf_minerals, 'Copper')"
   ]
  },
  {
   "cell_type": "code",
   "execution_count": null,
   "metadata": {},
   "outputs": [],
   "source": [
    "plot_map(mf_minerals, 'Cobalt')"
   ]
  },
  {
   "cell_type": "code",
   "execution_count": null,
   "metadata": {},
   "outputs": [],
   "source": []
  }
 ],
 "metadata": {
  "kernelspec": {
   "display_name": "Python 3",
   "language": "python",
   "name": "python3"
  },
  "language_info": {
   "codemirror_mode": {
    "name": "ipython",
    "version": 3
   },
   "file_extension": ".py",
   "mimetype": "text/x-python",
   "name": "python",
   "nbconvert_exporter": "python",
   "pygments_lexer": "ipython3",
   "version": "3.6.8"
  }
 },
 "nbformat": 4,
 "nbformat_minor": 2
}
